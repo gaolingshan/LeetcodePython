{
 "cells": [
  {
   "cell_type": "markdown",
   "metadata": {},
   "source": [
    "Write a function that takes a string as input and returns the string reversed.\n",
    "\n",
    "Example:\n",
    "Given s = \"hello\", return \"olleh\"."
   ]
  },
  {
   "cell_type": "code",
   "execution_count": 1,
   "metadata": {
    "collapsed": true
   },
   "outputs": [],
   "source": [
    "## Pythonic solution:\n",
    "## Time O(n), Space O(n)\n",
    "\n",
    "class SolutionPythonic(object):\n",
    "    def reverseString(self, s):\n",
    "        return s[::-1]"
   ]
  },
  {
   "cell_type": "code",
   "execution_count": 2,
   "metadata": {
    "collapsed": true
   },
   "outputs": [],
   "source": [
    "## Classic solution:\n",
    "class SolutionClassic(object):\n",
    "    def reverseString(self, s):\n",
    "        r = list(s)\n",
    "        i, j  = 0, len(r) - 1\n",
    "        while i < j:\n",
    "            r[i], r[j] = r[j], r[i]\n",
    "            i += 1\n",
    "            j -= 1\n",
    "\n",
    "        return \"\".join(r)"
   ]
  },
  {
   "cell_type": "code",
   "execution_count": 3,
   "metadata": {
    "collapsed": true
   },
   "outputs": [],
   "source": [
    "## Recursive solution:\n",
    "## \"/\" is integer division in Python 2; the equivalent in python 3 is \"//\"\n",
    "class Solution(object):\n",
    "    def reverseString(self, s):\n",
    "        l = len(s)\n",
    "        if l < 2:\n",
    "            return s\n",
    "        return self.reverseString(s[l//2:]) + self.reverseString(s[:l//2])"
   ]
  }
 ],
 "metadata": {
  "anaconda-cloud": {},
  "kernelspec": {
   "display_name": "Python [default]",
   "language": "python",
   "name": "python3"
  },
  "language_info": {
   "codemirror_mode": {
    "name": "ipython",
    "version": 3
   },
   "file_extension": ".py",
   "mimetype": "text/x-python",
   "name": "python",
   "nbconvert_exporter": "python",
   "pygments_lexer": "ipython3",
   "version": "3.5.2"
  }
 },
 "nbformat": 4,
 "nbformat_minor": 1
}
