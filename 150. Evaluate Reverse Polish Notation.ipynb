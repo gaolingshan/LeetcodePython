{
 "cells": [
  {
   "cell_type": "markdown",
   "metadata": {},
   "source": [
    "Evaluate the value of an arithmetic expression in Reverse Polish Notation.\n",
    "\n",
    "Valid operators are +, -, *, /. Each operand may be an integer or another expression.\n",
    "\n",
    "Some examples: <br>\n",
    "  [\"2\", \"1\", \"+\", \"3\", \"**\"] -> ((2 + 1) * 3) -> 9 <br>\n",
    "  [\"4\", \"13\", \"5\", \"/\", \"+\"] -> (4 + (13 / 5)) -> 6 <br>"
   ]
  },
  {
   "cell_type": "markdown",
   "metadata": {},
   "source": [
    "**Stack** <br>\n",
    "**Note: when append the result from the operation to 'res', only take the integer part**"
   ]
  },
  {
   "cell_type": "code",
   "execution_count": 1,
   "metadata": {
    "collapsed": false
   },
   "outputs": [],
   "source": [
    "class Solution(object):\n",
    "    def evalRPN(self, tokens):\n",
    "        \"\"\"\n",
    "        :type tokens: List[str]\n",
    "        :rtype: int\n",
    "        \"\"\"\n",
    "        import operator\n",
    "        \n",
    "        res = []\n",
    "        ops = {\"+\": operator.add, \"-\": operator.sub, \"*\": operator.mul, \"/\": operator.truediv}\n",
    "        for i in range(len(tokens)):\n",
    "            if tokens[i] not in ops.keys():\n",
    "                res.append(int(tokens[i]))\n",
    "            else:\n",
    "                temp = ops[tokens[i]](res[-2], res[-1])\n",
    "                res = res[0:-2]\n",
    "                res.append(int(temp))\n",
    "        return int(res[0])"
   ]
  },
  {
   "cell_type": "markdown",
   "metadata": {},
   "source": [
    "A better Python solution:\n",
    "https://discuss.leetcode.com/topic/15344/a-simple-python-solution-o-n-72ms/2"
   ]
  },
  {
   "cell_type": "code",
   "execution_count": 2,
   "metadata": {
    "collapsed": true
   },
   "outputs": [],
   "source": [
    "class Solution:\n",
    "# @param {string[]} tokens\n",
    "# @return {integer}\n",
    "    def __init__(self):\n",
    "        self.operators = {\n",
    "            '+': lambda y, x: x + y,\n",
    "            '-': lambda y, x: x - y,\n",
    "            '*': lambda y, x: x * y,\n",
    "            '/': lambda y, x: int(operator.truediv(x, y))\n",
    "        }\n",
    "\n",
    "    def evalRPN(self, tokens):\n",
    "        if not tokens:\n",
    "            return 0\n",
    "\n",
    "        stack = []\n",
    "\n",
    "        for token in tokens:\n",
    "            if token in self.operators:\n",
    "                stack.append(self.operators[token](stack.pop(), stack.pop()))\n",
    "            else:\n",
    "                stack.append(int(token))\n",
    "\n",
    "        return stack[0]"
   ]
  },
  {
   "cell_type": "code",
   "execution_count": null,
   "metadata": {
    "collapsed": true
   },
   "outputs": [],
   "source": []
  }
 ],
 "metadata": {
  "anaconda-cloud": {},
  "kernelspec": {
   "display_name": "Python [default]",
   "language": "python",
   "name": "python3"
  },
  "language_info": {
   "codemirror_mode": {
    "name": "ipython",
    "version": 3
   },
   "file_extension": ".py",
   "mimetype": "text/x-python",
   "name": "python",
   "nbconvert_exporter": "python",
   "pygments_lexer": "ipython3",
   "version": "3.5.2"
  }
 },
 "nbformat": 4,
 "nbformat_minor": 1
}
