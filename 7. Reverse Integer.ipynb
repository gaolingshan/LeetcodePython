{
 "cells": [
  {
   "cell_type": "markdown",
   "metadata": {},
   "source": [
    "### [Problem](https://leetcode.com/problems/two-sum/)\n",
    "\n",
    "Reverse digits of an integer.\n",
    "\n",
    "Example1: x = 123, return 321 <br>\n",
    "Example2: x = -123, return -321"
   ]
  },
  {
   "cell_type": "markdown",
   "metadata": {},
   "source": [
    "### Label\n",
    "% mode operation to get last digit"
   ]
  },
  {
   "cell_type": "code",
   "execution_count": 2,
   "metadata": {
    "collapsed": true
   },
   "outputs": [],
   "source": [
    "## Note that the problem uses left/right shift to get the last digit\n",
    "\n",
    "class Solution(object):\n",
    "    def reverse(self, x):\n",
    "        res = 0\n",
    "        sign = 1\n",
    "        \n",
    "        if x < 0:\n",
    "            sign = -1\n",
    "            x = -x\n",
    "\n",
    "        while x > 0:\n",
    "            if res > 214748364:\n",
    "                return 0\n",
    "            res = res * 10 + x % 10\n",
    "            x /= 10\n",
    "        return (sign*res) "
   ]
  }
 ],
 "metadata": {
  "anaconda-cloud": {},
  "kernelspec": {
   "display_name": "Python [default]",
   "language": "python",
   "name": "python3"
  },
  "language_info": {
   "codemirror_mode": {
    "name": "ipython",
    "version": 3
   },
   "file_extension": ".py",
   "mimetype": "text/x-python",
   "name": "python",
   "nbconvert_exporter": "python",
   "pygments_lexer": "ipython3",
   "version": "3.5.2"
  }
 },
 "nbformat": 4,
 "nbformat_minor": 1
}
