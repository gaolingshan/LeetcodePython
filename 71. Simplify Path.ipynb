{
 "cells": [
  {
   "cell_type": "markdown",
   "metadata": {},
   "source": [
    "Given an absolute path for a file (Unix-style), simplify it.\n",
    "\n",
    "For example,<br>\n",
    "path = \"/home/\", => \"/home\"<br>\n",
    "path = \"/a/./b/../../c/\", => \"/c\"<br>\n",
    "click to show corner cases.\n",
    "\n",
    "Corner Cases:<br>\n",
    "Did you consider the case where path = \"/../\"? <br>\n",
    "In this case, you should return \"/\".<br>\n",
    "Another corner case is the path might contain multiple slashes '/' together, such as \"/home//foo/\".<br>\n",
    "In this case, you should ignore redundant slashes and return \"/home/foo\"."
   ]
  },
  {
   "cell_type": "code",
   "execution_count": 1,
   "metadata": {
    "collapsed": true
   },
   "outputs": [],
   "source": [
    "## 注意return的写法 return '/'+'/'.join(res)"
   ]
  },
  {
   "cell_type": "markdown",
   "metadata": {},
   "source": [
    "logic:<br>\n",
    "if is content, then add to the result list \"res\"<br>\n",
    "if \"..\" then remove the last element in \"res\"<br>\n",
    "if \".\" or \"\" then don't add to \"res\"<br>"
   ]
  },
  {
   "cell_type": "code",
   "execution_count": 2,
   "metadata": {
    "collapsed": true
   },
   "outputs": [],
   "source": [
    "def simplifyPath(path):\n",
    "    \"\"\"\n",
    "    :type path: str\n",
    "    :rtype: str\n",
    "    \"\"\"\n",
    "    res = []\n",
    "    ls = path.split('/')\n",
    "    for i in range(len(ls)):\n",
    "        if ls[i] == \"..\":\n",
    "            if len(res) > 0:\n",
    "                res.pop()\n",
    "        elif ls[i] != \".\" and ls[i] != \"\":\n",
    "            res.append(ls[i])\n",
    "    return '/'+'/'.join(res)"
   ]
  }
 ],
 "metadata": {
  "anaconda-cloud": {},
  "kernelspec": {
   "display_name": "Python [default]",
   "language": "python",
   "name": "python3"
  },
  "language_info": {
   "codemirror_mode": {
    "name": "ipython",
    "version": 3
   },
   "file_extension": ".py",
   "mimetype": "text/x-python",
   "name": "python",
   "nbconvert_exporter": "python",
   "pygments_lexer": "ipython3",
   "version": "3.5.2"
  }
 },
 "nbformat": 4,
 "nbformat_minor": 1
}
