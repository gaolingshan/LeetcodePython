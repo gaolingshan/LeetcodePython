{
 "cells": [
  {
   "cell_type": "markdown",
   "metadata": {},
   "source": [
    "# Peak Finding\n",
    "A peak is a number that is greater than its neighbors"
   ]
  },
  {
   "cell_type": "code",
   "execution_count": 1,
   "metadata": {
    "collapsed": true
   },
   "outputs": [],
   "source": [
    "import numpy as np"
   ]
  },
  {
   "cell_type": "markdown",
   "metadata": {},
   "source": [
    "1. Non-repeat, sorted array, exist one and only one peak <br>"
   ]
  },
  {
   "cell_type": "code",
   "execution_count": 45,
   "metadata": {
    "collapsed": false
   },
   "outputs": [],
   "source": [
    "def peak_finding(left, right, array):\n",
    "    mid = (left+right)//2\n",
    "    print(mid)\n",
    "    #left, right = mid - 1, mid + 1\n",
    "    if (mid-1 < 0) or (mid+1 >= len(array)):\n",
    "        return array[mid]\n",
    "    if (array[mid] > array[mid-1]) and (array[mid] > array[mid+1]):\n",
    "        return array[mid]\n",
    "    elif (array[mid] < array[mid-1]):\n",
    "        return peak_finding(left, mid-1, array)\n",
    "    else:\n",
    "        return peak_finding(mid+1, right, array)    "
   ]
  },
  {
   "cell_type": "code",
   "execution_count": 47,
   "metadata": {
    "collapsed": true
   },
   "outputs": [],
   "source": [
    "ls = [5, 3, 2, 1]"
   ]
  },
  {
   "cell_type": "code",
   "execution_count": 48,
   "metadata": {
    "collapsed": false
   },
   "outputs": [
    {
     "name": "stdout",
     "output_type": "stream",
     "text": [
      "1\n",
      "0\n"
     ]
    },
    {
     "data": {
      "text/plain": [
       "5"
      ]
     },
     "execution_count": 48,
     "metadata": {},
     "output_type": "execute_result"
    }
   ],
   "source": [
    "peak_finding(0, len(ls)-1, ls)"
   ]
  },
  {
   "cell_type": "markdown",
   "metadata": {},
   "source": [
    "# Binary Search"
   ]
  },
  {
   "cell_type": "markdown",
   "metadata": {},
   "source": [
    "1. Given a sorted array and a target number, return index of the target number"
   ]
  },
  {
   "cell_type": "code",
   "execution_count": 49,
   "metadata": {
    "collapsed": false
   },
   "outputs": [],
   "source": [
    "def binary_search(left, right, array, target_num):\n",
    "    mid = (left+right)//2\n",
    "    #print(mid)\n",
    "    if (left > right) or (left < 0) or (right > len(array)-1):\n",
    "        return -1\n",
    "    # mid can be a random number within [left, right]\n",
    "    #if left == right:\n",
    "    #    mid = left\n",
    "    #else:\n",
    "    #    mid = np.random.choice(range(left, right), 1)[0]\n",
    "    # when a[mid] > target, we search within the sub-list left to mid. mid should not be included\n",
    "    if array[mid] > target_num:\n",
    "        return binary_search(left, mid-1, array, target_num)\n",
    "    elif array[mid] < target_num:\n",
    "        return binary_search(mid+1, right, array, target_num)\n",
    "    elif array[mid] ==  target_num:\n",
    "        return mid"
   ]
  },
  {
   "cell_type": "code",
   "execution_count": 50,
   "metadata": {
    "collapsed": false
   },
   "outputs": [
    {
     "data": {
      "text/plain": [
       "-1"
      ]
     },
     "execution_count": 50,
     "metadata": {},
     "output_type": "execute_result"
    }
   ],
   "source": [
    "binary_search(0, len(ls)-1, ls, 0)"
   ]
  },
  {
   "cell_type": "code",
   "execution_count": 92,
   "metadata": {
    "collapsed": false,
    "scrolled": true
   },
   "outputs": [
    {
     "name": "stdout",
     "output_type": "stream",
     "text": [
      "10000 loops, best of 5: 343 ns per loop\n"
     ]
    }
   ],
   "source": [
    "timeit -r5 -n10000 test2(123456789)"
   ]
  },
  {
   "cell_type": "code",
   "execution_count": 181,
   "metadata": {
    "collapsed": false
   },
   "outputs": [],
   "source": [
    "class Solution:\n",
    "    def findMedianSortedArrays(self, nums1, nums2):\n",
    "        \"\"\"\n",
    "        :type nums1: List[int]\n",
    "        :type nums2: List[int]\n",
    "        :rtype: float\n",
    "        \"\"\"\n",
    "\n",
    "        len_min = min(len(nums1), len(nums2))\n",
    "        len_max = max(len(nums1), len(nums2))\n",
    "        # compare two arrays up to <length>\n",
    "        i = j = 1\n",
    "        res1 = min(nums1[0], nums2[0])\n",
    "        res2 = max(nums1[0], nums2[0])\n",
    "        while (i < len_min) and (j < len_min) and ((i+j) < (len_min + len_max)//2):\n",
    "                if nums1[i] < nums2[j]:\n",
    "                    res1 = max(res2, nums1[i])\n",
    "                    res2 = nums2[j]\n",
    "                    i+=1\n",
    "                elif nums1[i] == nums2[j]:\n",
    "                    res1 = res2 = nums1[i]\n",
    "                    i+=1\n",
    "                    j+=1\n",
    "                else:\n",
    "                    temp = res1\n",
    "                    res1 = max(res2, nums2[j])\n",
    "                    res2 = nums1[i]\n",
    "                    j+=1\n",
    "            \n",
    "        if (i == len_min) and (len(nums2) > len_min):\n",
    "            res1 = max(nums2[(len_min + len_max)//2 - i - 1], res2)\n",
    "            res2 = max(nums2[(len_min + len_max)//2 - i], res2)\n",
    "        elif (j == len_min) and (len(nums1) > len_min):\n",
    "            res1 = max(nums1[(len_min + len_max)//2 - j - 1], res2)\n",
    "            res2 = max(nums1[(len_min + len_max)//2 - j], res2)\n",
    "        return (res1+res2)/2"
   ]
  },
  {
   "cell_type": "code",
   "execution_count": 198,
   "metadata": {
    "collapsed": true
   },
   "outputs": [],
   "source": [
    "a1 = [1, 3]\n",
    "a2 = [2]"
   ]
  },
  {
   "cell_type": "code",
   "execution_count": 197,
   "metadata": {
    "collapsed": false,
    "scrolled": false
   },
   "outputs": [
    {
     "data": {
      "text/plain": [
       "2.5"
      ]
     },
     "execution_count": 197,
     "metadata": {},
     "output_type": "execute_result"
    }
   ],
   "source": [
    "aa.findMedianSortedArrays(a1, a2)"
   ]
  },
  {
   "cell_type": "code",
   "execution_count": 244,
   "metadata": {
    "collapsed": false
   },
   "outputs": [],
   "source": [
    "class Solution:\n",
    "    def findMedianSortedArrays(self, nums1, nums2):\n",
    "        \"\"\"\n",
    "        :type nums1: List[int]\n",
    "        :type nums2: List[int]\n",
    "        :rtype: float\n",
    "        \"\"\"\n",
    "        if len(nums1) < len(nums2):\n",
    "            A, B = nums1, nums2\n",
    "        else:\n",
    "            A, B = nums2, nums1\n",
    "        i = j =0\n",
    "        res1 = res2 = float('-inf')\n",
    "        while (i+j <= (len(A) + len(B))//2) and (i < len(A)):\n",
    "            if A[i] < B[j]:\n",
    "                res1= max(A[i], res1)\n",
    "                res2 = B[j]\n",
    "                i+=1\n",
    "            elif A[i] == B[j]:\n",
    "                res1 = res2 = A[i]\n",
    "                i+=1\n",
    "                j+=1\n",
    "            else:\n",
    "                res1 = max(B[j], res1)\n",
    "                res2 = A[i]\n",
    "                j+=1\n",
    "                \n",
    "        #if (i+j) <= (len(A) + len(B))//2\n",
    "        print((len(A)+len(B))%2)\n",
    "        print(i)\n",
    "        print(j)\n",
    "        return res1 if ((len(A)+len(B))%2 == 1) else (res1+res2)/2"
   ]
  },
  {
   "cell_type": "code",
   "execution_count": 245,
   "metadata": {
    "collapsed": true
   },
   "outputs": [],
   "source": [
    "aa = Solution()"
   ]
  },
  {
   "cell_type": "code",
   "execution_count": 246,
   "metadata": {
    "collapsed": true
   },
   "outputs": [],
   "source": [
    "a1 = [1, 2, 3, 4, 5]\n",
    "a2 = [2]"
   ]
  },
  {
   "cell_type": "code",
   "execution_count": 247,
   "metadata": {
    "collapsed": false
   },
   "outputs": [
    {
     "name": "stdout",
     "output_type": "stream",
     "text": [
      "0\n",
      "1\n",
      "2\n"
     ]
    },
    {
     "data": {
      "text/plain": [
       "2.0"
      ]
     },
     "execution_count": 247,
     "metadata": {},
     "output_type": "execute_result"
    }
   ],
   "source": [
    "aa.findMedianSortedArrays(a1, a2)"
   ]
  },
  {
   "cell_type": "code",
   "execution_count": null,
   "metadata": {
    "collapsed": true
   },
   "outputs": [],
   "source": []
  }
 ],
 "metadata": {
  "anaconda-cloud": {},
  "kernelspec": {
   "display_name": "Python [default]",
   "language": "python",
   "name": "python3"
  },
  "language_info": {
   "codemirror_mode": {
    "name": "ipython",
    "version": 3
   },
   "file_extension": ".py",
   "mimetype": "text/x-python",
   "name": "python",
   "nbconvert_exporter": "python",
   "pygments_lexer": "ipython3",
   "version": "3.5.2"
  }
 },
 "nbformat": 4,
 "nbformat_minor": 1
}
